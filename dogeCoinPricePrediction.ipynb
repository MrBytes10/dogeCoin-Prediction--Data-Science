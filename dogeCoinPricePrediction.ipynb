{
 "cells": [
  {
   "cell_type": "markdown",
   "metadata": {},
   "source": [
    "# Dogecoin Price Prediction with Machine Learning"
   ]
  },
  {
   "cell_type": "code",
   "execution_count": 1,
   "metadata": {},
   "outputs": [
    {
     "data": {
      "text/plain": [
       "\"\\nDogecoin is a cryptocurrency, like Ethereum or Bitcoin — despite the fact that it's totally different than both of these famous coins. Dogecoin was initially made to some extent as a joke for crypto devotees and took its name from a previously well-known meme.\\n\\nIn this project, we will be implementing a machine learning model which can predict the pattern or forecast the price of the coin in the upcoming days. Let us now move toward the implementation of price prediction.\\n\\nImporting Libraries and Dataset\\nPython libraries make it easy for us to handle the data and perform typical and complex tasks with a single line of code.\\n\\nPandas: This library helps to load the data frame in a 2D array format and has multiple functions to perform analysis tasks in one go.\\nNumpy: Numpy arrays are very fast and can perform large computations in a very short time.\\nMatplotlib/Seaborn : This library is used to draw visualizations.\\n\""
      ]
     },
     "execution_count": 1,
     "metadata": {},
     "output_type": "execute_result"
    }
   ],
   "source": [
    "\"\"\"\n",
    "Dogecoin is a cryptocurrency, like Ethereum or Bitcoin — despite the fact that it's totally different than both of these famous coins. Dogecoin was initially made to some extent as a joke for crypto devotees and took its name from a previously well-known meme.\n",
    "\n",
    "In this project, we will be implementing a machine learning model which can predict the pattern or forecast the price of the coin in the upcoming days. Let us now move toward the implementation of price prediction.\n",
    "\n",
    "Importing Libraries and Dataset\n",
    "Python libraries make it easy for us to handle the data and perform typical and complex tasks with a single line of code.\n",
    "\n",
    "Pandas: This library helps to load the data frame in a 2D array format and has multiple functions to perform analysis tasks in one go.\n",
    "Numpy: Numpy arrays are very fast and can perform large computations in a very short time.\n",
    "Matplotlib/Seaborn : This library is used to draw visualizations.\n",
    "\"\"\"\n"
   ]
  },
  {
   "cell_type": "code",
   "execution_count": 4,
   "metadata": {},
   "outputs": [],
   "source": [
    "import pandas as pd \n",
    "import numpy as np \n",
    "import matplotlib.pyplot as plt \n",
    "import seaborn as sns \n",
    "from sklearn.ensemble import RandomForestRegressor \n"
   ]
  },
  {
   "cell_type": "code",
   "execution_count": 5,
   "metadata": {},
   "outputs": [
    {
     "data": {
      "text/html": [
       "<div>\n",
       "<style scoped>\n",
       "    .dataframe tbody tr th:only-of-type {\n",
       "        vertical-align: middle;\n",
       "    }\n",
       "\n",
       "    .dataframe tbody tr th {\n",
       "        vertical-align: top;\n",
       "    }\n",
       "\n",
       "    .dataframe thead th {\n",
       "        text-align: right;\n",
       "    }\n",
       "</style>\n",
       "<table border=\"1\" class=\"dataframe\">\n",
       "  <thead>\n",
       "    <tr style=\"text-align: right;\">\n",
       "      <th></th>\n",
       "      <th>Date</th>\n",
       "      <th>Open</th>\n",
       "      <th>High</th>\n",
       "      <th>Low</th>\n",
       "      <th>Close</th>\n",
       "      <th>Adj Close</th>\n",
       "      <th>Volume</th>\n",
       "    </tr>\n",
       "  </thead>\n",
       "  <tbody>\n",
       "    <tr>\n",
       "      <th>0</th>\n",
       "      <td>2017-11-10</td>\n",
       "      <td>0.001421</td>\n",
       "      <td>0.001431</td>\n",
       "      <td>0.001125</td>\n",
       "      <td>0.001163</td>\n",
       "      <td>0.001163</td>\n",
       "      <td>4246520</td>\n",
       "    </tr>\n",
       "    <tr>\n",
       "      <th>1</th>\n",
       "      <td>2017-11-11</td>\n",
       "      <td>0.001146</td>\n",
       "      <td>0.001257</td>\n",
       "      <td>0.001141</td>\n",
       "      <td>0.001201</td>\n",
       "      <td>0.001201</td>\n",
       "      <td>2231080</td>\n",
       "    </tr>\n",
       "    <tr>\n",
       "      <th>2</th>\n",
       "      <td>2017-11-12</td>\n",
       "      <td>0.001189</td>\n",
       "      <td>0.001210</td>\n",
       "      <td>0.001002</td>\n",
       "      <td>0.001038</td>\n",
       "      <td>0.001038</td>\n",
       "      <td>3288960</td>\n",
       "    </tr>\n",
       "    <tr>\n",
       "      <th>3</th>\n",
       "      <td>2017-11-13</td>\n",
       "      <td>0.001046</td>\n",
       "      <td>0.001212</td>\n",
       "      <td>0.001019</td>\n",
       "      <td>0.001211</td>\n",
       "      <td>0.001211</td>\n",
       "      <td>2481270</td>\n",
       "    </tr>\n",
       "    <tr>\n",
       "      <th>4</th>\n",
       "      <td>2017-11-14</td>\n",
       "      <td>0.001201</td>\n",
       "      <td>0.001239</td>\n",
       "      <td>0.001131</td>\n",
       "      <td>0.001184</td>\n",
       "      <td>0.001184</td>\n",
       "      <td>2660340</td>\n",
       "    </tr>\n",
       "  </tbody>\n",
       "</table>\n",
       "</div>"
      ],
      "text/plain": [
       "         Date      Open      High       Low     Close  Adj Close   Volume\n",
       "0  2017-11-10  0.001421  0.001431  0.001125  0.001163   0.001163  4246520\n",
       "1  2017-11-11  0.001146  0.001257  0.001141  0.001201   0.001201  2231080\n",
       "2  2017-11-12  0.001189  0.001210  0.001002  0.001038   0.001038  3288960\n",
       "3  2017-11-13  0.001046  0.001212  0.001019  0.001211   0.001211  2481270\n",
       "4  2017-11-14  0.001201  0.001239  0.001131  0.001184   0.001184  2660340"
      ]
     },
     "execution_count": 5,
     "metadata": {},
     "output_type": "execute_result"
    }
   ],
   "source": [
    "# Now let us load the dataset in the panda’s data frame.\n",
    "data = pd.read_csv(\"DOGE-USD.csv\", sep=',') \n",
    "data.head() \n"
   ]
  },
  {
   "cell_type": "code",
   "execution_count": 22,
   "metadata": {},
   "outputs": [
    {
     "name": "stdout",
     "output_type": "stream",
     "text": [
      "Close     float64\n",
      "Volume      int64\n",
      "gap       float64\n",
      "a         float64\n",
      "b         float64\n",
      "dtype: object\n"
     ]
    }
   ],
   "source": [
    "print(data.dtypes)\n"
   ]
  },
  {
   "cell_type": "code",
   "execution_count": 24,
   "metadata": {},
   "outputs": [
    {
     "name": "stdout",
     "output_type": "stream",
     "text": [
      "           Close    Volume       gap         a         b\n",
      "Close   1.000000  0.580478  0.366322  0.162905  0.448402\n",
      "Volume  0.580478  1.000000  0.865801  0.510382  0.953644\n",
      "gap     0.366322  0.865801  1.000000  0.409841  0.907431\n",
      "a       0.162905  0.510382  0.409841  1.000000  0.604607\n",
      "b       0.448402  0.953644  0.907431  0.604607  1.000000\n"
     ]
    }
   ],
   "source": [
    "# Now, let's check the correlation\n",
    "print (data.corr())\n",
    "\n"
   ]
  },
  {
   "cell_type": "code",
   "execution_count": 8,
   "metadata": {},
   "outputs": [
    {
     "name": "stderr",
     "output_type": "stream",
     "text": [
      "C:\\Users\\ADMIN\\AppData\\Local\\Temp\\ipykernel_16900\\372385379.py:2: UserWarning: The argument 'infer_datetime_format' is deprecated and will be removed in a future version. A strict version of it is now the default, see https://pandas.pydata.org/pdeps/0004-consistent-to-datetime-parsing.html. You can safely remove this argument.\n",
      "  data[\"Date\"] = pd.to_datetime(data[\"Date\"],\n"
     ]
    },
    {
     "data": {
      "text/plain": [
       "Open         False\n",
       "High         False\n",
       "Low          False\n",
       "Close        False\n",
       "Adj Close    False\n",
       "Volume       False\n",
       "dtype: bool"
      ]
     },
     "execution_count": 8,
     "metadata": {},
     "output_type": "execute_result"
    }
   ],
   "source": [
    "# Converting the string date & time in proper date & time format with the help of pandas. After that check is there any null value is present or not.\n",
    "data[\"Date\"] = pd.to_datetime(data[\"Date\"], \n",
    "                              infer_datetime_format=True) \n",
    "data.set_index(\"Date\", inplace=True) \n",
    "\n",
    "data.isnull().any()\n"
   ]
  },
  {
   "cell_type": "code",
   "execution_count": 9,
   "metadata": {},
   "outputs": [
    {
     "data": {
      "text/plain": [
       "Open         0\n",
       "High         0\n",
       "Low          0\n",
       "Close        0\n",
       "Adj Close    0\n",
       "Volume       0\n",
       "dtype: int64"
      ]
     },
     "execution_count": 9,
     "metadata": {},
     "output_type": "execute_result"
    }
   ],
   "source": [
    "# Now, let’s check for the presence of null values in the dataset.\n",
    "data.isnull().sum()\n"
   ]
  },
  {
   "cell_type": "code",
   "execution_count": 10,
   "metadata": {},
   "outputs": [],
   "source": [
    "# Dropping those missing values so that we do not have any errors while analyzing.\n",
    "data = data.dropna()\n"
   ]
  },
  {
   "cell_type": "code",
   "execution_count": 11,
   "metadata": {},
   "outputs": [
    {
     "data": {
      "text/html": [
       "<div>\n",
       "<style scoped>\n",
       "    .dataframe tbody tr th:only-of-type {\n",
       "        vertical-align: middle;\n",
       "    }\n",
       "\n",
       "    .dataframe tbody tr th {\n",
       "        vertical-align: top;\n",
       "    }\n",
       "\n",
       "    .dataframe thead th {\n",
       "        text-align: right;\n",
       "    }\n",
       "</style>\n",
       "<table border=\"1\" class=\"dataframe\">\n",
       "  <thead>\n",
       "    <tr style=\"text-align: right;\">\n",
       "      <th></th>\n",
       "      <th>Open</th>\n",
       "      <th>High</th>\n",
       "      <th>Low</th>\n",
       "      <th>Close</th>\n",
       "      <th>Adj Close</th>\n",
       "      <th>Volume</th>\n",
       "    </tr>\n",
       "  </thead>\n",
       "  <tbody>\n",
       "    <tr>\n",
       "      <th>count</th>\n",
       "      <td>2409.000000</td>\n",
       "      <td>2409.000000</td>\n",
       "      <td>2409.000000</td>\n",
       "      <td>2409.000000</td>\n",
       "      <td>2409.000000</td>\n",
       "      <td>2.409000e+03</td>\n",
       "    </tr>\n",
       "    <tr>\n",
       "      <th>mean</th>\n",
       "      <td>0.067902</td>\n",
       "      <td>0.071319</td>\n",
       "      <td>0.064614</td>\n",
       "      <td>0.067966</td>\n",
       "      <td>0.067966</td>\n",
       "      <td>9.731624e+08</td>\n",
       "    </tr>\n",
       "    <tr>\n",
       "      <th>std</th>\n",
       "      <td>0.089479</td>\n",
       "      <td>0.096182</td>\n",
       "      <td>0.082975</td>\n",
       "      <td>0.089530</td>\n",
       "      <td>0.089530</td>\n",
       "      <td>3.106343e+09</td>\n",
       "    </tr>\n",
       "    <tr>\n",
       "      <th>min</th>\n",
       "      <td>0.001046</td>\n",
       "      <td>0.001210</td>\n",
       "      <td>0.001002</td>\n",
       "      <td>0.001038</td>\n",
       "      <td>0.001038</td>\n",
       "      <td>1.431720e+06</td>\n",
       "    </tr>\n",
       "    <tr>\n",
       "      <th>25%</th>\n",
       "      <td>0.002757</td>\n",
       "      <td>0.002827</td>\n",
       "      <td>0.002660</td>\n",
       "      <td>0.002756</td>\n",
       "      <td>0.002756</td>\n",
       "      <td>4.353666e+07</td>\n",
       "    </tr>\n",
       "    <tr>\n",
       "      <th>50%</th>\n",
       "      <td>0.053678</td>\n",
       "      <td>0.056980</td>\n",
       "      <td>0.050572</td>\n",
       "      <td>0.053725</td>\n",
       "      <td>0.053725</td>\n",
       "      <td>2.054661e+08</td>\n",
       "    </tr>\n",
       "    <tr>\n",
       "      <th>75%</th>\n",
       "      <td>0.087124</td>\n",
       "      <td>0.090797</td>\n",
       "      <td>0.084292</td>\n",
       "      <td>0.087323</td>\n",
       "      <td>0.087323</td>\n",
       "      <td>7.595930e+08</td>\n",
       "    </tr>\n",
       "    <tr>\n",
       "      <th>max</th>\n",
       "      <td>0.687801</td>\n",
       "      <td>0.737567</td>\n",
       "      <td>0.608168</td>\n",
       "      <td>0.684777</td>\n",
       "      <td>0.684777</td>\n",
       "      <td>6.941068e+10</td>\n",
       "    </tr>\n",
       "  </tbody>\n",
       "</table>\n",
       "</div>"
      ],
      "text/plain": [
       "              Open         High          Low        Close    Adj Close  \\\n",
       "count  2409.000000  2409.000000  2409.000000  2409.000000  2409.000000   \n",
       "mean      0.067902     0.071319     0.064614     0.067966     0.067966   \n",
       "std       0.089479     0.096182     0.082975     0.089530     0.089530   \n",
       "min       0.001046     0.001210     0.001002     0.001038     0.001038   \n",
       "25%       0.002757     0.002827     0.002660     0.002756     0.002756   \n",
       "50%       0.053678     0.056980     0.050572     0.053725     0.053725   \n",
       "75%       0.087124     0.090797     0.084292     0.087323     0.087323   \n",
       "max       0.687801     0.737567     0.608168     0.684777     0.684777   \n",
       "\n",
       "             Volume  \n",
       "count  2.409000e+03  \n",
       "mean   9.731624e+08  \n",
       "std    3.106343e+09  \n",
       "min    1.431720e+06  \n",
       "25%    4.353666e+07  \n",
       "50%    2.054661e+08  \n",
       "75%    7.595930e+08  \n",
       "max    6.941068e+10  "
      ]
     },
     "execution_count": 11,
     "metadata": {},
     "output_type": "execute_result"
    }
   ],
   "source": [
    "# Now, check the statistical analysis of the data using describe() method.\n",
    "data.describe() \n"
   ]
  },
  {
   "cell_type": "code",
   "execution_count": 12,
   "metadata": {},
   "outputs": [
    {
     "data": {
      "text/plain": [
       "Text(0.5, 1.0, 'Date vs Close of 2021')"
      ]
     },
     "execution_count": 12,
     "metadata": {},
     "output_type": "execute_result"
    },
    {
     "data": {
      "image/png": "[encoded data removed]",
      "text/plain": [
       "<Figure size 2000x700 with 1 Axes>"
      ]
     },
     "metadata": {},
     "output_type": "display_data"
    }
   ],
   "source": [
    "# Now, firstly we will analyze the closing price as we need it to perform the prediction.\n",
    "plt.figure(figsize=(20, 7)) \n",
    "x = data.groupby('Date')['Close'].mean() \n",
    "x.plot(linewidth=2.5, color='b') \n",
    "plt.xlabel('Date') \n",
    "plt.ylabel('Volume') \n",
    "plt.title(\"Date vs Close of 2021\")\n"
   ]
  },
  {
   "cell_type": "code",
   "execution_count": 13,
   "metadata": {},
   "outputs": [
    {
     "data": {
      "text/plain": [
       "Close        1.000000\n",
       "Adj Close    1.000000\n",
       "High         0.995106\n",
       "Low          0.994567\n",
       "Open         0.992505\n",
       "Volume       0.580478\n",
       "b            0.448402\n",
       "gap          0.366322\n",
       "a            0.162905\n",
       "z            0.071485\n",
       "y            0.073332\n",
       "Name: Close, dtype: float64"
      ]
     },
     "execution_count": 13,
     "metadata": {},
     "output_type": "execute_result"
    }
   ],
   "source": [
    "# The column ‘Close’ is our predicted feature. We are taking different factors from the predefined factors for our own calculation and naming them suitably. Also, we are checking each factor while correlating with the ‘Close’ column while sorting it in descending order.\n",
    "\n",
    "data[\"gap\"] = (data[\"High\"] - data[\"Low\"]) * data[\"Volume\"] \n",
    "data[\"y\"] = data[\"High\"] / data[\"Volume\"] \n",
    "data[\"z\"] = data[\"Low\"] / data[\"Volume\"] \n",
    "data[\"a\"] = data[\"High\"] / data[\"Low\"] \n",
    "data[\"b\"] = (data[\"High\"] / data[\"Low\"]) * data[\"Volume\"] \n",
    "abs(data.corr()[\"Close\"].sort_values(ascending=False)) \n"
   ]
  },
  {
   "cell_type": "code",
   "execution_count": 14,
   "metadata": {},
   "outputs": [
    {
     "data": {
      "text/html": [
       "<div>\n",
       "<style scoped>\n",
       "    .dataframe tbody tr th:only-of-type {\n",
       "        vertical-align: middle;\n",
       "    }\n",
       "\n",
       "    .dataframe tbody tr th {\n",
       "        vertical-align: top;\n",
       "    }\n",
       "\n",
       "    .dataframe thead th {\n",
       "        text-align: right;\n",
       "    }\n",
       "</style>\n",
       "<table border=\"1\" class=\"dataframe\">\n",
       "  <thead>\n",
       "    <tr style=\"text-align: right;\">\n",
       "      <th></th>\n",
       "      <th>Close</th>\n",
       "      <th>Volume</th>\n",
       "      <th>gap</th>\n",
       "      <th>a</th>\n",
       "      <th>b</th>\n",
       "    </tr>\n",
       "    <tr>\n",
       "      <th>Date</th>\n",
       "      <th></th>\n",
       "      <th></th>\n",
       "      <th></th>\n",
       "      <th></th>\n",
       "      <th></th>\n",
       "    </tr>\n",
       "  </thead>\n",
       "  <tbody>\n",
       "    <tr>\n",
       "      <th>2017-11-10</th>\n",
       "      <td>0.001163</td>\n",
       "      <td>4246520</td>\n",
       "      <td>1299.43512</td>\n",
       "      <td>1.272000</td>\n",
       "      <td>5.401573e+06</td>\n",
       "    </tr>\n",
       "    <tr>\n",
       "      <th>2017-11-11</th>\n",
       "      <td>0.001201</td>\n",
       "      <td>2231080</td>\n",
       "      <td>258.80528</td>\n",
       "      <td>1.101665</td>\n",
       "      <td>2.457903e+06</td>\n",
       "    </tr>\n",
       "    <tr>\n",
       "      <th>2017-11-12</th>\n",
       "      <td>0.001038</td>\n",
       "      <td>3288960</td>\n",
       "      <td>684.10368</td>\n",
       "      <td>1.207585</td>\n",
       "      <td>3.971698e+06</td>\n",
       "    </tr>\n",
       "    <tr>\n",
       "      <th>2017-11-13</th>\n",
       "      <td>0.001211</td>\n",
       "      <td>2481270</td>\n",
       "      <td>478.88511</td>\n",
       "      <td>1.189401</td>\n",
       "      <td>2.951226e+06</td>\n",
       "    </tr>\n",
       "    <tr>\n",
       "      <th>2017-11-14</th>\n",
       "      <td>0.001184</td>\n",
       "      <td>2660340</td>\n",
       "      <td>287.31672</td>\n",
       "      <td>1.095491</td>\n",
       "      <td>2.914378e+06</td>\n",
       "    </tr>\n",
       "  </tbody>\n",
       "</table>\n",
       "</div>"
      ],
      "text/plain": [
       "               Close   Volume         gap         a             b\n",
       "Date                                                             \n",
       "2017-11-10  0.001163  4246520  1299.43512  1.272000  5.401573e+06\n",
       "2017-11-11  0.001201  2231080   258.80528  1.101665  2.457903e+06\n",
       "2017-11-12  0.001038  3288960   684.10368  1.207585  3.971698e+06\n",
       "2017-11-13  0.001211  2481270   478.88511  1.189401  2.951226e+06\n",
       "2017-11-14  0.001184  2660340   287.31672  1.095491  2.914378e+06"
      ]
     },
     "execution_count": 14,
     "metadata": {},
     "output_type": "execute_result"
    }
   ],
   "source": [
    "# By, observing the correlating factors, we can choose a few of them. We are excluding High, Low, and Open as they are highly correlated from the beginning.\n",
    "data = data[[\"Close\", \"Volume\", \"gap\", \"a\", \"b\"]] \n",
    "data.head() \n"
   ]
  },
  {
   "cell_type": "code",
   "execution_count": 16,
   "metadata": {},
   "outputs": [
    {
     "name": "stdout",
     "output_type": "stream",
     "text": [
      "(11, 5) (19, 5)\n"
     ]
    }
   ],
   "source": [
    "# Introducing the ARIMA model for Time Series Analysis. ARIMA stands for autoregressive integrated moving average model and is specified by three order parameters: (p, d, q) where AR stands for Autoregression i.e. p, I stands for Integration i.e. d, MA stands for Moving Average i.e. q. Whereas, SARIMAX is Seasonal ARIMA with exogenous variables.\n",
    "df2 = data.tail(30) \n",
    "train = df2[:11] \n",
    "test = df2[-19:] \n",
    "\n",
    "print(train.shape, test.shape) \n"
   ]
  },
  {
   "cell_type": "code",
   "execution_count": 17,
   "metadata": {},
   "outputs": [],
   "source": [
    "# The shape of the train is (11, 5), and the test is (19, 5). Let’s implement the SARIMAX model and see the results.\n"
   ]
  },
  {
   "cell_type": "markdown",
   "metadata": {},
   "source": [
    "Model Development"
   ]
  },
  {
   "cell_type": "code",
   "execution_count": 18,
   "metadata": {},
   "outputs": [
    {
     "name": "stderr",
     "output_type": "stream",
     "text": [
      "E:\\Anaconda_Python3_Codes\\Lib\\site-packages\\statsmodels\\tsa\\base\\tsa_model.py:473: ValueWarning: No frequency information was provided, so inferred frequency D will be used.\n",
      "  self._init_dates(dates, freq)\n",
      "E:\\Anaconda_Python3_Codes\\Lib\\site-packages\\statsmodels\\tsa\\base\\tsa_model.py:473: ValueWarning: No frequency information was provided, so inferred frequency D will be used.\n",
      "  self._init_dates(dates, freq)\n",
      "E:\\Anaconda_Python3_Codes\\Lib\\site-packages\\statsmodels\\base\\model.py:607: ConvergenceWarning: Maximum Likelihood optimization failed to converge. Check mle_retvals\n",
      "  warnings.warn(\"Maximum Likelihood optimization failed to \"\n"
     ]
    },
    {
     "name": "stdout",
     "output_type": "stream",
     "text": [
      "                               SARIMAX Results                                \n",
      "==============================================================================\n",
      "Dep. Variable:                  Close   No. Observations:                   11\n",
      "Model:               SARIMAX(2, 1, 1)   Log Likelihood                  39.012\n",
      "Date:                Sat, 15 Jun 2024   AIC                            -62.023\n",
      "Time:                        00:14:41   BIC                            -59.603\n",
      "Sample:                    05-16-2024   HQIC                           -64.679\n",
      "                         - 05-26-2024                                         \n",
      "Covariance Type:                  opg                                         \n",
      "==============================================================================\n",
      "                 coef    std err          z      P>|z|      [0.025      0.975]\n",
      "------------------------------------------------------------------------------\n",
      "Volume      1.393e-09   6.16e-10      2.260      0.024    1.85e-10     2.6e-09\n",
      "gap         7.919e-09   4.29e-09      1.845      0.065   -4.93e-10    1.63e-08\n",
      "a              0.4799   4.05e-11   1.18e+10      0.000       0.480       0.480\n",
      "b          -1.383e-09   6.21e-10     -2.227      0.026    -2.6e-09   -1.66e-10\n",
      "ar.L1         -0.5135    5.3e-11  -9.69e+09      0.000      -0.513      -0.513\n",
      "ar.L2         -0.4099   5.95e-11  -6.88e+09      0.000      -0.410      -0.410\n",
      "ma.L1          0.0636    5.3e-11    1.2e+09      0.000       0.064       0.064\n",
      "sigma2       1.13e-05   4.44e-06      2.546      0.011     2.6e-06       2e-05\n",
      "===================================================================================\n",
      "Ljung-Box (L1) (Q):                   0.00   Jarque-Bera (JB):                 0.44\n",
      "Prob(Q):                              1.00   Prob(JB):                         0.80\n",
      "Heteroskedasticity (H):               0.52   Skew:                             0.29\n",
      "Prob(H) (two-sided):                  0.60   Kurtosis:                         2.15\n",
      "===================================================================================\n",
      "\n",
      "Warnings:\n",
      "[1] Covariance matrix calculated using the outer product of gradients (complex-step).\n",
      "[2] Covariance matrix is singular or near-singular, with condition number 8.39e+26. Standard errors may be unstable.\n"
     ]
    }
   ],
   "source": [
    "from statsmodels.tsa.statespace.sarimax import SARIMAX \n",
    "model = SARIMAX(endog=train[\"Close\"], exog=train.drop( \n",
    "\t\"Close\", axis=1), order=(2, 1, 1)) \n",
    "results = model.fit() \n",
    "print(results.summary()) \n"
   ]
  },
  {
   "cell_type": "code",
   "execution_count": 20,
   "metadata": {},
   "outputs": [
    {
     "data": {
      "text/plain": [
       "2024-05-27    0.165108\n",
       "2024-05-28    0.163209\n",
       "2024-05-29    0.164296\n",
       "2024-05-30    0.162237\n",
       "2024-05-31    0.158236\n",
       "2024-06-01    0.145864\n",
       "2024-06-02    0.154514\n",
       "2024-06-03    0.158053\n",
       "2024-06-04    0.151577\n",
       "2024-06-05    0.149546\n",
       "2024-06-06    0.156955\n",
       "2024-06-07    0.159664\n",
       "2024-06-08    0.150214\n",
       "2024-06-09    0.148395\n",
       "2024-06-10    0.149483\n",
       "2024-06-11    0.151332\n",
       "2024-06-12    0.154574\n",
       "2024-06-13    0.152210\n",
       "2024-06-14    0.158150\n",
       "Freq: D, Name: predicted_mean, dtype: float64"
      ]
     },
     "execution_count": 20,
     "metadata": {},
     "output_type": "execute_result"
    }
   ],
   "source": [
    "# Now, observe the prediction in time series.\n",
    "\n",
    "start = 11\n",
    "end = 29\n",
    "predictions = results.predict( \n",
    "\tstart=start, \n",
    "\tend=end, \n",
    "\texog=test.drop(\"Close\", axis=1)) \n",
    "predictions \n"
   ]
  },
  {
   "cell_type": "code",
   "execution_count": 21,
   "metadata": {},
   "outputs": [
    {
     "data": {
      "text/plain": [
       "<Axes: xlabel='Date'>"
      ]
     },
     "execution_count": 21,
     "metadata": {},
     "output_type": "execute_result"
    },
    {
     "data": {
      "image/png": "[encoded data removed]",
      "text/plain": [
       "<Figure size 1200x600 with 1 Axes>"
      ]
     },
     "metadata": {},
     "output_type": "display_data"
    }
   ],
   "source": [
    "# Finally, plot the prediction to get a visualization.\n",
    "test[\"Close\"].plot(legend=True, figsize=(12, 6)) \n",
    "predictions.plot(label='TimeSeries', legend=True) \n"
   ]
  },
  {
   "cell_type": "code",
   "execution_count": null,
   "metadata": {},
   "outputs": [],
   "source": []
  }
 ],
 "metadata": {
  "kernelspec": {
   "display_name": "Python 3 (ipykernel)",
   "language": "python",
   "name": "python3"
  },
  "language_info": {
   "codemirror_mode": {
    "name": "ipython",
    "version": 3
   },
   "file_extension": ".py",
   "mimetype": "text/x-python",
   "name": "python",
   "nbconvert_exporter": "python",
   "pygments_lexer": "ipython3",
   "version": "3.12.4"
  }
 },
 "nbformat": 4,
 "nbformat_minor": 4
}
